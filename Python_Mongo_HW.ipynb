{
 "cells": [
  {
   "cell_type": "markdown",
   "metadata": {},
   "source": [
    "# 作業： 使用 Python 操作 MongoDB"
   ]
  },
  {
   "cell_type": "markdown",
   "metadata": {},
   "source": [
    "# [作業目標]\n",
    "* 能夠使用 Python 對 MongoDB 的資料進行增刪改查操作。\n",
    "* 使用 Robo 3T 工具查看資料。"
   ]
  },
  {
   "cell_type": "markdown",
   "metadata": {},
   "source": [
    "# [作業重點]\n",
    "* 執行程式前，MongoDB Server 記得要先開啟。\n",
    "* 若 DB、Collection 原本不存在，則直到有第一筆資料 insert 進去，才會真的建立 DB 及 Collection"
   ]
  },
  {
   "cell_type": "markdown",
   "metadata": {},
   "source": [
    "# 作業1\n",
    "* 建立 DB 及 Collection (名稱自訂)，使用 Python 取得連線。"
   ]
  },
  {
   "cell_type": "code",
   "execution_count": 1,
   "metadata": {},
   "outputs": [],
   "source": [
    "from pymongo import MongoClient\n",
    "client = MongoClient(host=\"127.0.0.1\", port=27017)\n",
    "db = client[\"test\"]\n",
    "collection = db[\"Member\"]"
   ]
  },
  {
   "cell_type": "markdown",
   "metadata": {},
   "source": [
    "# 作業2\n",
    "* 使用 Python 操作 Mongo 中的資料。"
   ]
  },
  {
   "cell_type": "code",
   "execution_count": 4,
   "metadata": {},
   "outputs": [],
   "source": [
    "data = {\"name\":\"Tony\",\"phone\":\"09111111111\",\"email\":\"dkw@maiil.com\"}\n",
    "result = collection.insert_one(data)"
   ]
  },
  {
   "cell_type": "code",
   "execution_count": 5,
   "metadata": {},
   "outputs": [
    {
     "data": {
      "text/plain": [
       "ObjectId('5ff12773ca8a02284a21fdbf')"
      ]
     },
     "execution_count": 5,
     "metadata": {},
     "output_type": "execute_result"
    }
   ],
   "source": [
    "result.inserted_id"
   ]
  },
  {
   "cell_type": "code",
   "execution_count": 6,
   "metadata": {},
   "outputs": [],
   "source": [
    "data_many = [{\"name\":\"Tm\",\"phone\":\"0922222222\",\"email\":\"123@maiil.com\"},\n",
    "            {\"name\":\"Jrry\",\"phone\":\"0933333333\",\"email\":\"456@maiil.com\"},\n",
    "            {\"name\":\"ary\",\"phone\":\"09444444444\",\"email\":\"789@maiil.com\"}]"
   ]
  },
  {
   "cell_type": "code",
   "execution_count": 7,
   "metadata": {},
   "outputs": [],
   "source": [
    "result = collection.insert_many(data_many)"
   ]
  },
  {
   "cell_type": "code",
   "execution_count": 8,
   "metadata": {},
   "outputs": [
    {
     "data": {
      "text/plain": [
       "[ObjectId('5ff127abca8a02284a21fdc0'),\n",
       " ObjectId('5ff127abca8a02284a21fdc1'),\n",
       " ObjectId('5ff127abca8a02284a21fdc2')]"
      ]
     },
     "execution_count": 8,
     "metadata": {},
     "output_type": "execute_result"
    }
   ],
   "source": [
    "result.inserted_ids"
   ]
  },
  {
   "cell_type": "code",
   "execution_count": null,
   "metadata": {},
   "outputs": [],
   "source": []
  },
  {
   "cell_type": "code",
   "execution_count": 9,
   "metadata": {},
   "outputs": [
    {
     "data": {
      "text/plain": [
       "4"
      ]
     },
     "execution_count": 9,
     "metadata": {},
     "output_type": "execute_result"
    }
   ],
   "source": [
    "collection.count_documents({})"
   ]
  },
  {
   "cell_type": "code",
   "execution_count": 10,
   "metadata": {},
   "outputs": [
    {
     "data": {
      "text/plain": [
       "<pymongo.results.DeleteResult at 0x1e355f79ac0>"
      ]
     },
     "execution_count": 10,
     "metadata": {},
     "output_type": "execute_result"
    }
   ],
   "source": [
    "collection.delete_one({\"name\":\"Jrry\"})"
   ]
  },
  {
   "cell_type": "code",
   "execution_count": 11,
   "metadata": {},
   "outputs": [
    {
     "data": {
      "text/plain": [
       "3"
      ]
     },
     "execution_count": 11,
     "metadata": {},
     "output_type": "execute_result"
    }
   ],
   "source": [
    "collection.count_documents({})"
   ]
  },
  {
   "cell_type": "code",
   "execution_count": null,
   "metadata": {},
   "outputs": [],
   "source": []
  },
  {
   "cell_type": "code",
   "execution_count": 12,
   "metadata": {},
   "outputs": [],
   "source": [
    "filters = {\"name\": \"ary\"}\n",
    "update = {\"$set\":{\"name\":\"Mary\"}}"
   ]
  },
  {
   "cell_type": "code",
   "execution_count": 13,
   "metadata": {},
   "outputs": [
    {
     "data": {
      "text/plain": [
       "<pymongo.results.UpdateResult at 0x1e357f50c40>"
      ]
     },
     "execution_count": 13,
     "metadata": {},
     "output_type": "execute_result"
    }
   ],
   "source": [
    "collection.update_one(filters,update)"
   ]
  },
  {
   "cell_type": "code",
   "execution_count": 18,
   "metadata": {},
   "outputs": [
    {
     "data": {
      "text/plain": [
       "{'_id': ObjectId('5ff127abca8a02284a21fdc2'),\n",
       " 'name': 'Mary',\n",
       " 'phone': '09444444444',\n",
       " 'email': '789@maiil.com'}"
      ]
     },
     "execution_count": 18,
     "metadata": {},
     "output_type": "execute_result"
    }
   ],
   "source": [
    "collection.find_one({\"name\":\"Mary\"})"
   ]
  },
  {
   "cell_type": "code",
   "execution_count": 19,
   "metadata": {},
   "outputs": [
    {
     "name": "stdout",
     "output_type": "stream",
     "text": [
      "{'_id': ObjectId('5ff12773ca8a02284a21fdbf'), 'name': 'Tony', 'phone': '09111111111', 'email': 'dkw@maiil.com'}\n",
      "{'_id': ObjectId('5ff127abca8a02284a21fdc0'), 'name': 'Tm', 'phone': '0922222222', 'email': '123@maiil.com'}\n",
      "{'_id': ObjectId('5ff127abca8a02284a21fdc2'), 'name': 'Mary', 'phone': '09444444444', 'email': '789@maiil.com'}\n"
     ]
    }
   ],
   "source": [
    "for x in collection.find():\n",
    "    print(x)"
   ]
  },
  {
   "cell_type": "code",
   "execution_count": 35,
   "metadata": {},
   "outputs": [
    {
     "name": "stdout",
     "output_type": "stream",
     "text": [
      "{'_id': ObjectId('5ff12773ca8a02284a21fdbf'), 'name': 'Tony', 'phone': '09111111111', 'email': 'dkw@maiil.com'}\n",
      "{'_id': ObjectId('5ff127abca8a02284a21fdc0'), 'name': 'Tm', 'phone': '0922222222', 'email': '123@maiil.com'}\n",
      "{'_id': ObjectId('5ff127abca8a02284a21fdc2'), 'name': 'Mary', 'phone': '09444444444', 'email': '789@maiil.com'}\n"
     ]
    }
   ],
   "source": [
    "for x in collection.find().sort(\"name\",-1):\n",
    "    print(x)"
   ]
  },
  {
   "cell_type": "code",
   "execution_count": 32,
   "metadata": {},
   "outputs": [
    {
     "name": "stdout",
     "output_type": "stream",
     "text": [
      "{'_id': ObjectId('5ff12773ca8a02284a21fdbf'), 'name': 'Tony', 'phone': '09111111111', 'email': 'dkw@maiil.com'}\n",
      "{'_id': ObjectId('5ff127abca8a02284a21fdc0'), 'name': 'Tm', 'phone': '0922222222', 'email': '123@maiil.com'}\n"
     ]
    }
   ],
   "source": [
    "for x in collection.find().limit(2):\n",
    "    print(x)"
   ]
  }
 ],
 "metadata": {
  "kernelspec": {
   "display_name": "Python 3",
   "language": "python",
   "name": "python3"
  },
  "language_info": {
   "codemirror_mode": {
    "name": "ipython",
    "version": 3
   },
   "file_extension": ".py",
   "mimetype": "text/x-python",
   "name": "python",
   "nbconvert_exporter": "python",
   "pygments_lexer": "ipython3",
   "version": "3.8.5"
  }
 },
 "nbformat": 4,
 "nbformat_minor": 4
}
